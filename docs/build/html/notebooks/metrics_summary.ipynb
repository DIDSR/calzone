{
 "cells": [
  {
   "cell_type": "markdown",
   "metadata": {},
   "source": [
    "# Summary and guide for calibration metrics\n",
    "\n",
    "We provide a summary of the calibration metrics provides by calzone, including the pros and cons of each metrics. For a more detailed explanation of each metrics and how to calculate them using calzone, please refer to the specific notebook."
   ]
  },
  {
   "cell_type": "code",
   "execution_count": 1,
   "metadata": {
    "nbsphinx": "hidden"
   },
   "outputs": [],
   "source": [
    "import pandas as pd\n",
    "from IPython.display import display, HTML\n",
    "\n",
    "data = {\n",
    "    'Metrics': ['ECE', 'MCE', 'Hosmer-Lemeshow test', \"Spiegelhalter's z test\", \"Cox's analysis\", 'Integrated calibration index (ICI)'],\n",
    "    'Description': [\n",
    "        'Using binned reliability diagram, sum of absolute difference, weighted by bin count.',\n",
    "        'Using binned reliability diagram, Maximum absolute difference.',\n",
    "        'Using binned reliability diagram, Chi-squared based test using expected and observed.',\n",
    "        'Decomposition of brier score. Normal distributed',\n",
    "        'Logistic regression of the logits',\n",
    "        'Similar to ECE, using smooth fit (usually losse) instead of binning to get the calibration curve'\n",
    "    ],\n",
    "    'Pros': [\n",
    "        '• Intuitive<br>• Easy to calculate',\n",
    "        '• Intuitive<br>• Easy to calculate',\n",
    "        '• Intuitive<br>• Statistical meaning',\n",
    "        '• Doesn\\'t rely on binning<br>• Statistical meaning',\n",
    "        '• Doesn\\'t rely on binning<br>• Its value shows the how the calibration is off',\n",
    "        '• Doesn\\'t rely on binning<br>• Capture all kind of miscalibration'\n",
    "    ],\n",
    "    'Cons': [\n",
    "        '• Depend on binning<br>• Depend on class-by-class or top-class',\n",
    "        '• Depend on binning<br>• Depend on class-by-class or top-class',\n",
    "        '• Depend on binning<br>• Low power<br>• Wrong coverage',\n",
    "        '• Doesn\\'t detect prevalence shift',\n",
    "        '• Failed to capture some cases of miscalibration',\n",
    "        '• Depend on the choice of curve fitting<br>• Depend on fitting parameters'\n",
    "    ],\n",
    "    'Meaning': [\n",
    "        'Average deviation from true probability',\n",
    "        'Maximum deviation from true probability',\n",
    "        'Test of calibration',\n",
    "        'Test of calibration',\n",
    "        'A logit fit to the calibration curve',\n",
    "        'Average deviation from true probability'\n",
    "    ]\n",
    "}\n",
    "\n",
    "df = pd.DataFrame(data)\n",
    "\n",
    "# Apply custom styling\n",
    "styled_df = df.style.set_properties(**{'text-align': 'left', 'white-space': 'pre-wrap'})\n",
    "styled_df = styled_df.set_table_styles([dict(selector='th', props=[('text-align', 'center')])])\n",
    "\n",
    "# Display the styled dataframe\n",
    "#display(HTML(styled_df.to_html(escape=False)))\n"
   ]
  },
  {
   "cell_type": "code",
   "execution_count": 2,
   "metadata": {},
   "outputs": [
    {
     "data": {
      "text/html": [
       "<style type=\"text/css\">\n",
       "#T_4e56f th {\n",
       "  text-align: center;\n",
       "}\n",
       "#T_4e56f_row0_col0, #T_4e56f_row0_col1, #T_4e56f_row0_col2, #T_4e56f_row0_col3, #T_4e56f_row0_col4, #T_4e56f_row1_col0, #T_4e56f_row1_col1, #T_4e56f_row1_col2, #T_4e56f_row1_col3, #T_4e56f_row1_col4, #T_4e56f_row2_col0, #T_4e56f_row2_col1, #T_4e56f_row2_col2, #T_4e56f_row2_col3, #T_4e56f_row2_col4, #T_4e56f_row3_col0, #T_4e56f_row3_col1, #T_4e56f_row3_col2, #T_4e56f_row3_col3, #T_4e56f_row3_col4, #T_4e56f_row4_col0, #T_4e56f_row4_col1, #T_4e56f_row4_col2, #T_4e56f_row4_col3, #T_4e56f_row4_col4, #T_4e56f_row5_col0, #T_4e56f_row5_col1, #T_4e56f_row5_col2, #T_4e56f_row5_col3, #T_4e56f_row5_col4 {\n",
       "  text-align: left;\n",
       "  white-space: pre-wrap;\n",
       "}\n",
       "</style>\n",
       "<table id=\"T_4e56f\">\n",
       "  <thead>\n",
       "    <tr>\n",
       "      <th class=\"blank level0\" >&nbsp;</th>\n",
       "      <th id=\"T_4e56f_level0_col0\" class=\"col_heading level0 col0\" >Metrics</th>\n",
       "      <th id=\"T_4e56f_level0_col1\" class=\"col_heading level0 col1\" >Description</th>\n",
       "      <th id=\"T_4e56f_level0_col2\" class=\"col_heading level0 col2\" >Pros</th>\n",
       "      <th id=\"T_4e56f_level0_col3\" class=\"col_heading level0 col3\" >Cons</th>\n",
       "      <th id=\"T_4e56f_level0_col4\" class=\"col_heading level0 col4\" >Meaning</th>\n",
       "    </tr>\n",
       "  </thead>\n",
       "  <tbody>\n",
       "    <tr>\n",
       "      <th id=\"T_4e56f_level0_row0\" class=\"row_heading level0 row0\" >0</th>\n",
       "      <td id=\"T_4e56f_row0_col0\" class=\"data row0 col0\" >ECE</td>\n",
       "      <td id=\"T_4e56f_row0_col1\" class=\"data row0 col1\" >Using binned reliability diagram, sum of absolute difference, weighted by bin count.</td>\n",
       "      <td id=\"T_4e56f_row0_col2\" class=\"data row0 col2\" >• Intuitive<br>• Easy to calculate</td>\n",
       "      <td id=\"T_4e56f_row0_col3\" class=\"data row0 col3\" >• Depend on binning<br>• Depend on class-by-class or top-class</td>\n",
       "      <td id=\"T_4e56f_row0_col4\" class=\"data row0 col4\" >Average deviation from true probability</td>\n",
       "    </tr>\n",
       "    <tr>\n",
       "      <th id=\"T_4e56f_level0_row1\" class=\"row_heading level0 row1\" >1</th>\n",
       "      <td id=\"T_4e56f_row1_col0\" class=\"data row1 col0\" >MCE</td>\n",
       "      <td id=\"T_4e56f_row1_col1\" class=\"data row1 col1\" >Using binned reliability diagram, Maximum absolute difference.</td>\n",
       "      <td id=\"T_4e56f_row1_col2\" class=\"data row1 col2\" >• Intuitive<br>• Easy to calculate</td>\n",
       "      <td id=\"T_4e56f_row1_col3\" class=\"data row1 col3\" >• Depend on binning<br>• Depend on class-by-class or top-class</td>\n",
       "      <td id=\"T_4e56f_row1_col4\" class=\"data row1 col4\" >Maximum deviation from true probability</td>\n",
       "    </tr>\n",
       "    <tr>\n",
       "      <th id=\"T_4e56f_level0_row2\" class=\"row_heading level0 row2\" >2</th>\n",
       "      <td id=\"T_4e56f_row2_col0\" class=\"data row2 col0\" >Hosmer-Lemeshow test</td>\n",
       "      <td id=\"T_4e56f_row2_col1\" class=\"data row2 col1\" >Using binned reliability diagram, Chi-squared based test using expected and observed.</td>\n",
       "      <td id=\"T_4e56f_row2_col2\" class=\"data row2 col2\" >• Intuitive<br>• Statistical meaning</td>\n",
       "      <td id=\"T_4e56f_row2_col3\" class=\"data row2 col3\" >• Depend on binning<br>• Low power<br>• Wrong coverage</td>\n",
       "      <td id=\"T_4e56f_row2_col4\" class=\"data row2 col4\" >Test of calibration</td>\n",
       "    </tr>\n",
       "    <tr>\n",
       "      <th id=\"T_4e56f_level0_row3\" class=\"row_heading level0 row3\" >3</th>\n",
       "      <td id=\"T_4e56f_row3_col0\" class=\"data row3 col0\" >Spiegelhalter's z test</td>\n",
       "      <td id=\"T_4e56f_row3_col1\" class=\"data row3 col1\" >Decomposition of brier score. Normal distributed</td>\n",
       "      <td id=\"T_4e56f_row3_col2\" class=\"data row3 col2\" >• Doesn't rely on binning<br>• Statistical meaning</td>\n",
       "      <td id=\"T_4e56f_row3_col3\" class=\"data row3 col3\" >• Doesn't detect prevalence shift</td>\n",
       "      <td id=\"T_4e56f_row3_col4\" class=\"data row3 col4\" >Test of calibration</td>\n",
       "    </tr>\n",
       "    <tr>\n",
       "      <th id=\"T_4e56f_level0_row4\" class=\"row_heading level0 row4\" >4</th>\n",
       "      <td id=\"T_4e56f_row4_col0\" class=\"data row4 col0\" >Cox's analysis</td>\n",
       "      <td id=\"T_4e56f_row4_col1\" class=\"data row4 col1\" >Logistic regression of the logits</td>\n",
       "      <td id=\"T_4e56f_row4_col2\" class=\"data row4 col2\" >• Doesn't rely on binning<br>• Its value shows the how the calibration is off</td>\n",
       "      <td id=\"T_4e56f_row4_col3\" class=\"data row4 col3\" >• Failed to capture some cases of miscalibration</td>\n",
       "      <td id=\"T_4e56f_row4_col4\" class=\"data row4 col4\" >A logit fit to the calibration curve</td>\n",
       "    </tr>\n",
       "    <tr>\n",
       "      <th id=\"T_4e56f_level0_row5\" class=\"row_heading level0 row5\" >5</th>\n",
       "      <td id=\"T_4e56f_row5_col0\" class=\"data row5 col0\" >Integrated calibration index (ICI)</td>\n",
       "      <td id=\"T_4e56f_row5_col1\" class=\"data row5 col1\" >Similar to ECE, using smooth fit (usually losse) instead of binning to get the calibration curve</td>\n",
       "      <td id=\"T_4e56f_row5_col2\" class=\"data row5 col2\" >• Doesn't rely on binning<br>• Capture all kind of miscalibration</td>\n",
       "      <td id=\"T_4e56f_row5_col3\" class=\"data row5 col3\" >• Depend on the choice of curve fitting<br>• Depend on fitting parameters</td>\n",
       "      <td id=\"T_4e56f_row5_col4\" class=\"data row5 col4\" >Average deviation from true probability</td>\n",
       "    </tr>\n",
       "  </tbody>\n",
       "</table>\n"
      ],
      "text/plain": [
       "<IPython.core.display.HTML object>"
      ]
     },
     "metadata": {},
     "output_type": "display_data"
    }
   ],
   "source": [
    "display(HTML(styled_df.to_html(escape=False)))"
   ]
  },
  {
   "cell_type": "markdown",
   "metadata": {},
   "source": [
    "## Guide to Calibration Metrics\n",
    "\n",
    "We recommend to visualize the calibration using reliability diagrams. If you see general over- or under-estimation of the probability for a given class, consider applying a prevalence adjustment to see whether it is only due to prevalence shift. After prevalence adjustment, plot the reliability diagrams again and examine the result of calibration metrcis. We recommend using Cox and Loess integrated calibration index(ICI) to get a general sense of the average probability deviation. We recommend using Spiegelhalter'z test to test for calibration. Other metrics such as ECE, Cox slope/intercept and HL test has it limitations and should be used as with caution. See the details description of each metric in the following sections."
   ]
  }
 ],
 "metadata": {
  "kernelspec": {
   "display_name": "uq",
   "language": "python",
   "name": "python3"
  },
  "language_info": {
   "codemirror_mode": {
    "name": "ipython",
    "version": 3
   },
   "file_extension": ".py",
   "mimetype": "text/x-python",
   "name": "python",
   "nbconvert_exporter": "python",
   "pygments_lexer": "ipython3",
   "version": "3.12.4"
  }
 },
 "nbformat": 4,
 "nbformat_minor": 2
}
